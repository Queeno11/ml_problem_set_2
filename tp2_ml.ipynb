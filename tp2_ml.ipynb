{
  "cells": [
    {
      "cell_type": "code",
      "execution_count": null,
      "metadata": {
        "id": "lu1xPDFMggEt"
      },
      "outputs": [],
      "source": [
        "import gc\n",
        "import requests\n",
        "import pandas as pd\n",
        "import numpy as np\n",
        "import seaborn as sns\n",
        "import matplotlib.pyplot as plt\n",
        "from tqdm import tqdm\n",
        "from statsmodels.formula.api import ols\n",
        "from sklearn.model_selection import train_test_split\n",
        "# Paquetes nuestros\n",
        "import models\n",
        "import process_data\n",
        "\n",
        "pd.set_option('display.max_columns', None)\n",
        "\n",
        "data = fr\"D:\\Maestría\\Machine Learning\\TP2\\data\""
      ]
    },
    {
      "cell_type": "markdown",
      "metadata": {
        "id": "vIhbr-6gGESc"
      },
      "source": [
        "# Query data"
      ]
    },
    {
      "cell_type": "code",
      "execution_count": null,
      "metadata": {
        "colab": {
          "base_uri": "https://localhost:8080/",
          "height": 407
        },
        "id": "xiTM5gUsGJNb",
        "outputId": "02169798-0d44-41f0-82ac-ac13161d6573"
      },
      "outputs": [],
      "source": [
        "test_hogares_df = pd.read_csv(fr'{data}\\test_hogares.csv')\n",
        "test_personas_df = pd.read_csv(fr'{data}\\test_personas.csv')\n",
        "train_hogares_df = pd.read_csv(fr'{data}\\train_hogares.csv')\n",
        "train_personas_df = pd.read_csv(fr'{data}\\train_personas.csv')"
      ]
    },
    {
      "cell_type": "code",
      "execution_count": null,
      "metadata": {},
      "outputs": [],
      "source": [
        "test_hogares_df, train_hogares_df = process_data.limpia_columnas_hogares(test_hogares_df, train_hogares_df)\n",
        "test_personas_df, train_personas_df = process_data.limpia_columnas_personas(test_personas_df, train_personas_df)"
      ]
    },
    {
      "cell_type": "markdown",
      "metadata": {},
      "source": [
        "# Run models"
      ]
    },
    {
      "cell_type": "code",
      "execution_count": null,
      "metadata": {},
      "outputs": [],
      "source": [
        "paras = {\n",
        "    'splits': 5,\n",
        "    'ridge': {\n",
        "        \"alpha\": 0.5 \n",
        "    },\n",
        "    'lgb': {\n",
        "        'max_depth': None,\n",
        "        'lr': 0.01,\n",
        "        'feature_fraction': 0.07,\n",
        "        'verbos_': -1,\n",
        "        'classification': True,\n",
        "    },\n",
        "    'xgb': {\n",
        "        'eta': 0.1,\n",
        "        'max_depth': 4,\n",
        "        'subsample': 0.75,\n",
        "        'colsample_by_tree': 0.07,\n",
        "        'verbos_': 500,\n",
        "    },\n",
        "    'nn': {\n",
        "        'nn_l1': 300,\n",
        "        'nn_l2': 300,\n",
        "        'epochs': 20,\n",
        "        'batch': 64,\n",
        "        'dp': 0.,\n",
        "        'classification': True,\n",
        "    },\n",
        "    'w_cla_xgb': 0.33,\n",
        "    'w_cla_lgb': 0.33,\n",
        "    'w_cla_nn': 0.34,\n",
        "    'w_reg_ridge': 0.33,\n",
        "    'w_reg_lgb': 0.33,\n",
        "    'w_reg_nn': 0.34,\n",
        "}\n"
      ]
    },
    {
      "cell_type": "code",
      "execution_count": null,
      "metadata": {},
      "outputs": [],
      "source": [
        "# Dataset A cla\n",
        "X, y, X_test = process_data.build_dataset_A(train_personas_df, train_hogares_df, test_personas_df, test_hogares_df, nan=\"dummies\", cla=True)\n",
        "claA_loss, claA_preds, preds = models.train_cla_models(X, y, paras, test_ = X_test)\n",
        "\n",
        "# Dataset B cla\n",
        "X, y, X_test = process_data.build_dataset_B(train_personas_df, train_hogares_df, test_personas_df, test_hogares_df, nan=\"dummies\", cla=True)\n",
        "claB_loss, claB_preds, preds = models.train_cla_models(X, y, paras, test_ = X_test)\n",
        "\n",
        "# Dataset B cla\n",
        "X, y, X_test = process_data.build_dataset_C(train_personas_df, train_hogares_df, test_personas_df, test_hogares_df, nan=\"dummies\", cla=True)\n",
        "claC_loss, claC_preds, preds = models.train_cla_models(X, y, paras, test_ = X_test)"
      ]
    },
    {
      "cell_type": "code",
      "execution_count": null,
      "metadata": {},
      "outputs": [],
      "source": [
        "# Dataset A reg\n",
        "X, y, X_test = process_data.build_dataset_A(train_personas_df, train_hogares_df, test_personas_df, test_hogares_df, nan=\"dummies\", cla=False)\n",
        "regA_loss, regA_preds, preds_regs = models.train_reg_models(X, y, paras, test_ = X_test)\n",
        "\n",
        "# Dataset B reg\n",
        "X, y, X_test = process_data.build_dataset_B(train_personas_df, train_hogares_df, test_personas_df, test_hogares_df, nan=\"dummies\", cla=False)\n",
        "regB_loss, regB_preds, preds_regs = models.train_reg_models(X, y, paras, test_ = X_test)\n",
        "\n",
        "# Dataset C reg\n",
        "X, y, X_test = process_data.build_dataset_C(train_personas_df, train_hogares_df, test_personas_df, test_hogares_df, nan=\"dummies\", cla=False)\n",
        "regC_loss, regC_preds, preds_regs = models.train_reg_models(X, y, paras, test_ = X_test)\n"
      ]
    },
    {
      "cell_type": "code",
      "execution_count": null,
      "metadata": {},
      "outputs": [],
      "source": [
        "def export_submits(preds, name):\n",
        "    preds_submit = pd.Series(preds<=X_test[\"Lp\"]).value_counts()\n",
        "    pd.concat([test_hogares_df.id, preds_submit], axis=1).rename(columns={0:\"pobre\"}).to_csv(f\"{name}.csv\", index=False)\n",
        "    \n",
        "runs = {'claA_preds':claA_preds, 'claB_preds':claB_preds, 'claC_preds':claC_preds, 'regA_preds':regA_preds, 'regB_preds':regB_preds, 'regC_preds':regC_preds}\n",
        "for name, run in runs.items():\n",
        "    for model in run.keys():\n",
        "        export_submits(run[model], name=name)\n"
      ]
    }
  ],
  "metadata": {
    "colab": {
      "provenance": []
    },
    "kernelspec": {
      "display_name": "Python 3",
      "name": "python3"
    },
    "language_info": {
      "codemirror_mode": {
        "name": "ipython",
        "version": 3
      },
      "file_extension": ".py",
      "mimetype": "text/x-python",
      "name": "python",
      "nbconvert_exporter": "python",
      "pygments_lexer": "ipython3",
      "version": "3.11.4"
    }
  },
  "nbformat": 4,
  "nbformat_minor": 0
}
